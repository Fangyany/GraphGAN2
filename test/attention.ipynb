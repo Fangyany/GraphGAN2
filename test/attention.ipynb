{
 "cells": [
  {
   "cell_type": "code",
   "execution_count": 3,
   "metadata": {},
   "outputs": [],
   "source": [
    "import numpy as np\n",
    "import os\n",
    "import sys\n",
    "from fractions import gcd\n",
    "from numbers import Number\n",
    "\n",
    "sys.path.append('..')\n",
    "\n",
    "import torch\n",
    "from torch import Tensor, nn\n",
    "from torch.nn import functional as F\n",
    "\n",
    "from data import ArgoDataset, collate_fn\n",
    "from utils import gpu, to_long,  Optimizer, StepLR, Logger, load_pretrain\n",
    "\n",
    "from layers import Conv1d, Res1d, Linear, LinearRes, Null\n",
    "from numpy import float64, ndarray\n",
    "from typing import Any, Callable, Dict, List, Optional, Tuple, Type, Union\n",
    "\n",
    "import argparse\n",
    "import random\n",
    "import sys\n",
    "import time\n",
    "import shutil\n",
    "from importlib import import_module\n",
    "from numbers import Number\n",
    "from torch.utils.data import Sampler, DataLoader\n",
    "\n",
    "from lanegcn import get_model, ActorNet, MapNet, A2M, M2M, M2A, A2A,actor_gather,graph_gather"
   ]
  },
  {
   "cell_type": "code",
   "execution_count": 4,
   "metadata": {},
   "outputs": [],
   "source": [
    "config, Dataset, collate_fn, net, loss, post_process, opt = get_model()"
   ]
  },
  {
   "cell_type": "code",
   "execution_count": 5,
   "metadata": {},
   "outputs": [],
   "source": [
    "def worker_init_fn(pid):\n",
    "    np_seed = int(pid)\n",
    "    np.random.seed(np_seed)\n",
    "    random_seed = np.random.randint(2 ** 32 - 1)\n",
    "    random.seed(random_seed)\n",
    "\n",
    "dataset = Dataset('./dataset/train_mini/data', config, train=True)\n",
    "train_loader = DataLoader(\n",
    "        dataset,\n",
    "        batch_size=config[\"batch_size\"],\n",
    "        num_workers=config[\"workers\"],\n",
    "        shuffle=False,   # True: At each epoch, reorder the data\n",
    "        collate_fn=collate_fn,\n",
    "        pin_memory=True,\n",
    "        worker_init_fn=worker_init_fn,   # The next 36 were thrown away\n",
    "        drop_last=True,\n",
    "    )"
   ]
  },
  {
   "cell_type": "code",
   "execution_count": 6,
   "metadata": {},
   "outputs": [
    {
     "name": "stdout",
     "output_type": "stream",
     "text": [
      "dict_keys(['city', 'orig', 'gt_preds', 'has_preds', 'theta', 'rot', 'feats', 'ctrs', 'graph', 'trajs2', 'traj1'])\n"
     ]
    }
   ],
   "source": [
    "data = {}\n",
    "for i, data in enumerate(train_loader):\n",
    "    data = dict(data)\n",
    "    break\n",
    "\n",
    "print(data.keys())"
   ]
  },
  {
   "cell_type": "code",
   "execution_count": 9,
   "metadata": {},
   "outputs": [],
   "source": [
    "actor_net = ActorNet(config).cuda()\n",
    "map_net = MapNet(config)\n",
    "a2m = A2M(config)\n",
    "m2m = M2M(config)\n",
    "m2a = M2A(config)\n",
    "a2a = A2A(config)"
   ]
  },
  {
   "cell_type": "code",
   "execution_count": 11,
   "metadata": {},
   "outputs": [],
   "source": [
    "actors, actor_idcs = actor_gather(data[\"feats\"])\n",
    "actor_ctrs = data[\"ctrs\"]\n",
    "actors = actor_net(actors.cuda())\n",
    "# construct map features\n",
    "graph = graph_gather(to_long(data[\"graph\"]))\n",
    "nodes, node_idcs, node_ctrs = map_net(graph)\n"
   ]
  },
  {
   "cell_type": "code",
   "execution_count": null,
   "metadata": {},
   "outputs": [],
   "source": [
    "feat = self.att[i](\n",
    "                feat,\n",
    "                graph[\"idcs\"],\n",
    "                graph[\"ctrs\"],\n",
    "                actors,\n",
    "                actor_idcs,\n",
    "                actor_ctrs,\n",
    "                self.config[\"actor2map_dist\"],\n",
    "            )"
   ]
  },
  {
   "cell_type": "code",
   "execution_count": 14,
   "metadata": {},
   "outputs": [
    {
     "name": "stderr",
     "output_type": "stream",
     "text": [
      "/home/zzyu/anaconda3/envs/lanegcn/lib/python3.7/site-packages/ipykernel_launcher.py:20: DeprecationWarning: fractions.gcd() is deprecated. Use math.gcd() instead.\n"
     ]
    }
   ],
   "source": [
    "norm = \"GN\"\n",
    "ng = 1\n",
    "n_ctx = 128\n",
    "n_agt = 128\n",
    "\n",
    "dist = nn.Sequential(\n",
    "    nn.Linear(2, n_ctx),\n",
    "    nn.ReLU(inplace=True),\n",
    "    Linear(n_ctx, n_ctx, norm=norm, ng=ng),\n",
    ")\n",
    "\n",
    "query = Linear(n_agt, n_ctx, norm=norm, ng=ng)\n",
    "\n",
    "ctx = nn.Sequential(\n",
    "    Linear(3 * n_ctx, n_agt, norm=norm, ng=ng),\n",
    "    nn.Linear(n_agt, n_agt, bias=False),\n",
    ")\n",
    "\n",
    "agt = nn.Linear(n_agt, n_agt, bias=False)\n",
    "norm = nn.GroupNorm(gcd(ng, n_agt), n_agt)\n",
    "linear = Linear(n_agt, n_agt, norm='GN', ng=ng, act=False)\n",
    "relu = nn.ReLU(inplace=True)"
   ]
  }
 ],
 "metadata": {
  "kernelspec": {
   "display_name": "lanegcn",
   "language": "python",
   "name": "python3"
  },
  "language_info": {
   "codemirror_mode": {
    "name": "ipython",
    "version": 3
   },
   "file_extension": ".py",
   "mimetype": "text/x-python",
   "name": "python",
   "nbconvert_exporter": "python",
   "pygments_lexer": "ipython3",
   "version": "3.7.0"
  },
  "orig_nbformat": 4,
  "vscode": {
   "interpreter": {
    "hash": "9ff309fca0a5e8ad5576d7cf0da1773e4040ba62bb168e6dfb3b17a889a1e8a7"
   }
  }
 },
 "nbformat": 4,
 "nbformat_minor": 2
}
